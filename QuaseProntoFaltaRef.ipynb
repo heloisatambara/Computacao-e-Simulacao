{
  "nbformat": 4,
  "nbformat_minor": 0,
  "metadata": {
    "colab": {
      "name": "Untitled2.ipynb",
      "provenance": [],
      "collapsed_sections": [],
      "authorship_tag": "ABX9TyO1jqJhnSzhS8AXUVZVtFup",
      "include_colab_link": true
    },
    "kernelspec": {
      "name": "python3",
      "display_name": "Python 3"
    },
    "language_info": {
      "name": "python"
    }
  },
  "cells": [
    {
      "cell_type": "markdown",
      "metadata": {
        "id": "view-in-github",
        "colab_type": "text"
      },
      "source": [
        "<a href=\"https://colab.research.google.com/github/heloisatambara/computacao-e-simulacao/blob/main/QuaseProntoFaltaRef.ipynb\" target=\"_parent\"><img src=\"https://colab.research.google.com/assets/colab-badge.svg\" alt=\"Open In Colab\"/></a>"
      ]
    },
    {
      "cell_type": "code",
      "execution_count": 1,
      "metadata": {
        "id": "Ob6AxkEZzJqE"
      },
      "outputs": [],
      "source": [
        "from scipy.stats import chi2\n",
        "from scipy.optimize import minimize_scalar\n",
        "\n",
        "import numpy as np\n",
        "#import matplotlib.pyplot as plt\n",
        "from datetime import datetime\n",
        "\n",
        "import math "
      ]
    },
    {
      "cell_type": "code",
      "source": [
        "def theta(theta1,theta3):\n",
        "    # funcao potencial\n",
        "    theta2 = 1 - theta1 - theta3\n",
        "    if theta1 <0 or theta2<0 or theta3<0:\n",
        "        return 0\n",
        "    y = ((theta1**(x1-1))*(theta2**(x2-1))*(theta3**(x3-1)))\n",
        "    return y\n",
        "    \n",
        "\n",
        "def alpha(i,j):\n",
        "    # alpha de aceitacao utilizado\n",
        "    if theta(i[0],i[1]) == 0: return 1\n",
        "    return theta(j[0],j[1])/theta(i[0],i[1])\n",
        "\n",
        "\n",
        "    \n",
        "###############################################################################\n",
        "    \n",
        "    \n",
        "def MCMC(aquecimento,tamanho_da_cadeia,saltos,mean,cov,ponto_inicial):\n",
        "    #gera uma cadeia a partir do n do aquecimento, n do tamanho da cadeia e\n",
        "    # tamanho dos saltos, matriz de covariancia e ponto inicial\n",
        "    # funciona apenas para dimensao dois\n",
        "    \n",
        "    \n",
        "    # total de pontos a serem gerados\n",
        "    n = aquecimento+(tamanho_da_cadeia*saltos)\n",
        "    \n",
        "    \n",
        "    # gera os valores da normal e uniforme anteriormente por vetorizacao\n",
        "    normal = np.random.multivariate_normal(mean,cov,n)\n",
        "    uniforme = np.random.uniform(0,1,n)\n",
        "    \n",
        "    #contagem dos pontos gerados para pegar o k-esimo candidato\n",
        "    k = 0\n",
        "    \n",
        "    \n",
        "    #cria a base da cadeia, apenas para facilitar o codigo\n",
        "    cadeia = [0]*(tamanho_da_cadeia*saltos)\n",
        "\n",
        "    \n",
        "    \n",
        "    \n",
        "                        #### Aquecimento ####   \n",
        "    # funcionamento igual ao topico MCMC, sem salvar a cadeia\n",
        "    # Salvando apenas o ultimo membro\n",
        "    cadeia_fria = ponto_inicial \n",
        "    for i in range(aquecimento):   \n",
        "        atual = cadeia_fria\n",
        "        proximo = (0,0)\n",
        "        caminho = normal[k]\n",
        "        proximo = (atual[0] + caminho[0] , atual[1] + caminho[1])\n",
        "        if uniforme[k] < alpha(atual , proximo):\n",
        "            cadeia_fria = proximo\n",
        "        k += 1\n",
        "        \n",
        "        \n",
        "        \n",
        "    # calculo da taxa de aceitacao\n",
        "    taxa_num = 0\n",
        "    \n",
        "            \n",
        "            \n",
        "                        #### MCMC ####   \n",
        "        #######################################################################\n",
        "    cadeia[0] = cadeia_fria        #A cadeia esquentada recebe o ultimo \n",
        "                                     #termo da fria\n",
        "        #######################################################################\n",
        "    for i in range((tamanho_da_cadeia*saltos)-1):     \n",
        "        atual = cadeia[i]    # Posicao atual da cadeia\n",
        "        #######################################################################\n",
        "        # Calculo do proximo candidato\n",
        "        proximo = (0,0)   \n",
        "        caminho = normal[k]\n",
        "        proximo = (atual[0] + caminho[0] , atual[1] + caminho[1])\n",
        "        #######################################################################\n",
        "                                                   # Decide se a nova posicao é\n",
        "        if uniforme[k] < alpha(atual , proximo):    # aceita, movendo a \n",
        "            cadeia[i+1] = proximo                            # cadeia caso seja \n",
        "            \n",
        "            taxa_num += 1 #calcula a taxa de aceitacao\n",
        "            \n",
        "        else:\n",
        "            #repete o ultimo termo caso n seja aceito\n",
        "            cadeia[i+1] = atual\n",
        "            \n",
        "        k += 1\n",
        "        #######################################################################  \n",
        "        \n",
        "    #taxa de aceitacao\n",
        "    taxa = taxa_num/len(cadeia)\n",
        "        \n",
        "    \n",
        "    \n",
        "    if saltos ==1:\n",
        "        return cadeia,taxa\n",
        "    \n",
        "    # elimina parte da amostra para diminuir a correlacao\n",
        "    cadeia_final = [0]*tamanho_da_cadeia\n",
        "    for i in range(tamanho_da_cadeia):\n",
        "        cadeia_final[i] = cadeia[saltos*i]\n",
        "    return cadeia_final,taxa # a cadeia final é s?\n",
        "\n",
        "def u(c,v):\n",
        "      # calculo de u a partir da cadeia e de um vetor v de cortes, retorna vetor\n",
        "      soma = [0]*len(v)\n",
        "      for j in range(len(v)):\n",
        "          # aqui q entra a ctt de integracao\n",
        "          k = v[j]/(math.gamma(x1+x2+x3)/(math.gamma(x1)*math.gamma(x2)*math.gamma(x3)))\n",
        "          for i in c:\n",
        "              if theta(i[0],i[1]) > k:\n",
        "                  soma[j] += 1\n",
        "      somas = np.array(soma)\n",
        "      return 1 - (somas/len(c) )\n",
        "\n",
        "\n",
        "\n",
        "    "
      ],
      "metadata": {
        "id": "2Ai6IwJLzX02"
      },
      "execution_count": 3,
      "outputs": []
    },
    {
      "cell_type": "code",
      "source": [
        "num = 100000  #numero de pontos\n",
        "\n",
        "# media da dist normal utilizada\n",
        "mean = [0,0]\n",
        "# definificao da matriz de covariancia utilizada\n",
        "# dimensao 2 pois o terceiro valor eh um menos os outros dois\n",
        "sigma = 0.02\n",
        "cov = np.array([[sigma,0],[0,sigma]])\n",
        "#Ponto inicial da cadeia\n",
        "ponto_inicial = (0,0)\n",
        "saltos = 10\n",
        "n_cadeia_fria = 10000\n",
        "###############################################################################\n",
        "\n",
        "#gera a cadeia\n",
        "c,taxa = MCMC(n_cadeia_fria,num,saltos,mean,cov,ponto_inicial)   #           \n"
      ],
      "metadata": {
        "id": "GD9L89mszlw-"
      },
      "execution_count": 62,
      "outputs": []
    },
    {
      "cell_type": "code",
      "source": [
        "    \n",
        "string = \"\"\n",
        "for i in range(len(v)):\n",
        "  string += f\"U({v[i]}) = {lista[i]}\\n\"\n",
        "print(\"As estimativas foram: \")\n",
        "print(string)\n",
        "\n",
        "print(f\"A taxa de aceitacao foi de {taxa}%\")\n",
        "now2 = datetime.now()\n",
        "print(f\"Programa demorou {now2-now1} para rodar.\\n\")\n",
        "print(f\"Foram gerados {n_cadeia_fria+(num*saltos)} pontos sendo\",\n",
        "      f\"{n_cadeia_fria} o tamanho da cadeia fria e {num*saltos} a\",\n",
        "      f\"quantia gerada para se ter uma cadeia de tamanho {num} com\",\n",
        "      f\"{saltos} saltos.\\n\")\n",
        "print(f\"A cadeia se iniciou no ponto {ponto_inicial} e variou a partir\",\n",
        "      \"de uma normal multivariada com a seguinte distribuicao:\")\n",
        "\n",
        "string = f\"  / |{mean[0]}| |{str(cov[0])[1:-1]}| \\\\\\n\"\n",
        "string+= f\"N \\ |{mean[1]}|,|{str(cov[1])[1:-1]}| /\"\n",
        "print(string)"
      ],
      "metadata": {
        "colab": {
          "base_uri": "https://localhost:8080/"
        },
        "id": "2fP26k4cz8s2",
        "outputId": "8edbfbf7-3c1b-49fb-deac-182ea4a801ab"
      },
      "execution_count": null,
      "outputs": [
        {
          "output_type": "stream",
          "name": "stdout",
          "text": [
            "As estimativas foram: \n",
            "U(0) = 0.0\n",
            "U(1) = 0.04132000000000002\n",
            "U(0.5) = 0.018669999999999964\n",
            "U(7) = 0.37605999999999995\n",
            "U(15) = 0.89059\n",
            "\n",
            "A taxa de aceitacao foi de 0.389137%\n",
            "Programa demorou 0:00:09.675377 para rodar.\n",
            "\n",
            "Foram gerados 1010000 pontos sendo 10000 o tamanho da cadeia fria e 1000000 a quantia gerada para se ter uma cadeia de tamanho 100000 com 10 saltos.\n",
            "\n",
            "A cadeia se iniciou no ponto (0, 0) e variou a partir de uma normal multivariada com a seguinte distribuicao:\n",
            "  / |0| |0.02 0.  | \\\n",
            "N \\ |0|,|0.   0.02| /\n"
          ]
        }
      ]
    },
    {
      "cell_type": "code",
      "source": [
        "def getThetaVector(theta):\n",
        "  thetaVector = [theta, 1 - theta - (1-theta**(1/2))**2, (1-theta**(1/2))**2]\n",
        "  return thetaVector\n",
        "\n",
        "\n",
        "  \n",
        "def fdps(theta): # função densidade probabilidade - função S a ser maximizada \n",
        "    betha = ( math.factorial(x[0]+x[1]+x[2]-1) ) / ( math.factorial(x[0]-1)*math.factorial(x[1]-1)*math.factorial(x[2]-1) )\n",
        "    thetaVector = [theta, 1 - theta - ((1-math.sqrt(theta))**2), (1-math.sqrt(theta))**2] # Hipotese de Hardy-Weinberg\n",
        "    if thetaVector[0]<0 or thetaVector[1]<0 or thetaVector[2]<0: #\n",
        "       return 0\n",
        "    else:\n",
        "      return -((thetaVector[0]**(x[0]-1)*thetaVector[1]**(x[1]-1)*thetaVector[2]**(x[2]-1))*betha) # negativo pois a função minimiza seu valor\n",
        "     \n",
        "\n",
        "def listOfXvectors(): # cria a lista dos vetores x a serem testados, mostrados no artigo\n",
        "    Xvectors = []\n",
        "    for x3 in range(2, 19):\n",
        "        Xvectors.append([1, 19-x3, x3])\n",
        "    for x3 in range(0,11):\n",
        "        Xvectors.append([5, 15-x3, x3])\n",
        "    for x3 in range(0,8):\n",
        "        Xvectors.append([9, 11-x3, x3])\n",
        "    return Xvectors\n",
        "\n",
        "def sev(t,h,ev): # calcula o evalor normalizado\n",
        "    y = 1- QQ(t,h,1-ev)\n",
        "    return y\n",
        "\n",
        "t = 2 #dim(theta) - seria 3 mas theta2 = n-theta1-theta3\n",
        "h = 1 #dim(H) - seria 2 mas theta2 = n-theta1-theta3\n",
        "\n",
        "def QQ(t,h,z): \n",
        "    fz = chi2.cdf( chi2.ppf(z,t), t-h)\n",
        "    return fz\n",
        "\n"
      ],
      "metadata": {
        "id": "7G9a_pUP0vAu"
      },
      "execution_count": 84,
      "outputs": []
    },
    {
      "cell_type": "code",
      "source": [
        "def fdps(theta): # função densidade probabilidade - função S a ser maximizada \n",
        "    betha = ( math.factorial(X[0]+X[1]+X[2]-1) ) / ( math.factorial(X[0]-1)*math.factorial(X[1]-1)*math.factorial(X[2]-1) )\n",
        "    thetaVector = [theta, 1 - theta - ((1-math.sqrt(theta))**2), (1-math.sqrt(theta))**2] # Hipotese de Hardy-Weinberg\n",
        "    if thetaVector[0]<0 or thetaVector[1]<0 or thetaVector[2]<0: #\n",
        "       return 0\n",
        "    else:\n",
        "      return -((thetaVector[0]**(X[0]-1)*thetaVector[1]**(X[1]-1)*thetaVector[2]**(X[2]-1))*betha) # negativo pois a função minimiza seu valor\n",
        "\n",
        "x = [1,17,2] # teste\n",
        "a = minimize_scalar(fdps, bounds = (0,1), method = 'bounded')\n",
        "print(a)\n",
        "print(a.get('x'))\n",
        "print(a.get('fun'))\n",
        "     "
      ],
      "metadata": {
        "colab": {
          "base_uri": "https://localhost:8080/"
        },
        "id": "7nasnQgf5d3O",
        "outputId": "b0ba5958-cae1-4a83-93c2-4d42f34034f5"
      },
      "execution_count": 99,
      "outputs": [
        {
          "output_type": "stream",
          "name": "stdout",
          "text": [
            "     fun: -7.726585773537931\n",
            " message: 'Solution found.'\n",
            "    nfev: 13\n",
            "  status: 0\n",
            " success: True\n",
            "       x: 0.08650599873859365\n",
            "0.08650599873859365\n",
            "-7.726585773537931\n"
          ]
        }
      ]
    },
    {
      "cell_type": "code",
      "source": [
        "x = [1,17,2] # teste\n",
        "max = 0\n",
        "for i in range(1000000):\n",
        "  new = fdps(i/100000)\n",
        "  if new >= max:\n",
        "    max = new\n",
        "    a = i/1000000/2\n",
        "\n",
        "print(max, a)"
      ],
      "metadata": {
        "colab": {
          "base_uri": "https://localhost:8080/"
        },
        "id": "tOHJHTFI3TW-",
        "outputId": "a43e0e67-c696-4845-f1f4-bdf992f3487f"
      },
      "execution_count": 83,
      "outputs": [
        {
          "output_type": "stream",
          "name": "stdout",
          "text": [
            "0.02352321037486343 0.0110725\n"
          ]
        }
      ]
    },
    {
      "cell_type": "code",
      "source": [
        "x = [1,17,2] # teste\n",
        "a = minimize_scalar(fdps, bounds = (0,1), method = 'bounded')\n",
        "print(a)\n",
        "print(a.get('x'))\n",
        "print(a.get('fun'))\n",
        "print(fdps(a.get('x')))\n",
        "print(u(c, [s_estrela]))"
      ],
      "metadata": {
        "colab": {
          "base_uri": "https://localhost:8080/"
        },
        "id": "aESR-kOC0CSb",
        "outputId": "b8ab77e1-e972-4924-db7b-e11a1d6d1e00"
      },
      "execution_count": 94,
      "outputs": [
        {
          "output_type": "stream",
          "name": "stdout",
          "text": [
            "     fun: -4.045959819889278e-06\n",
            " message: 'Solution found.'\n",
            "    nfev: 10\n",
            "  status: 0\n",
            " success: True\n",
            "       x: 0.22145422914814739\n",
            "0.22145422914814739\n",
            "-4.045959819889278e-06\n",
            "-4.045959819889278e-06\n",
            "[0.]\n"
          ]
        }
      ]
    },
    {
      "cell_type": "code",
      "source": [
        "num = 100000  #numero de pontos\n",
        "\n",
        "# media da dist normal utilizada\n",
        "mean = [0,0]\n",
        "# definificao da matriz de covariancia utilizada\n",
        "# dimensao 2 pois o terceiro valor eh um menos os outros dois\n",
        "sigma = 0.02\n",
        "cov = np.array([[sigma,0],[0,sigma]])\n",
        "#Ponto inicial da cadeia\n",
        "ponto_inicial = (0,0)\n",
        "saltos = 10\n",
        "n_cadeia_fria = 10000"
      ],
      "metadata": {
        "id": "s-ojGhtvuqhh"
      },
      "execution_count": 32,
      "outputs": []
    },
    {
      "cell_type": "code",
      "source": [
        "Y = [1,1,1] # priori\n",
        "Xvectors = listOfXvectors() # gera todos os X na tabela\n",
        "for X in Xvectors: # para cada vetor X:\n",
        "    x1, x2, x3 = X[0]+1, X[1]+1, X[2]+1  # pega cada valor do vetor\n",
        "    X[0], X[1], X[2] = x1, x2, x3  # X + Y\n",
        "    c,taxa = MCMC(n_cadeia_fria,num,saltos,mean,cov,ponto_inicial) # gera a amostra\n",
        "    maximizando = minimize_scalar(fdps, bounds = (0,1), method = 'bounded')\n",
        "    s_estrela = -maximizando.get('fun') # acha o valor máximo de s\n",
        "    ev = u(c, [s_estrela]) # acha W(s*) = ev(H|x) - e valor\n",
        "    vetor_theta = getThetaVector(maximizando.get('x')) # acha o vetor theta\n",
        "    Sev = sev(t,h,ev) # calcula e valor padronizado\n",
        "    if Sev <= .05: H = \"Rejeita H0\" # decide se aceita ou rejeita H0\n",
        "    else: H = \"Aceita  H0\"\n",
        "\n",
        "    print(f\" x1={x1-1} , x3={x3-1}, Y= {Y}, H={H},  θ*= {vetor_theta}, ev(H|X)={format(ev[0],'.5f')} e sev(H|X)={format(Sev[0],'.5f')}\")"
      ],
      "metadata": {
        "colab": {
          "base_uri": "https://localhost:8080/",
          "height": 380
        },
        "id": "Qng5fA5ycyOo",
        "outputId": "ca9d9f66-93e0-4c2b-b8c3-30d7c4df3551"
      },
      "execution_count": 110,
      "outputs": [
        {
          "output_type": "error",
          "ename": "TypeError",
          "evalue": "ignored",
          "traceback": [
            "\u001b[0;31m---------------------------------------------------------------------------\u001b[0m",
            "\u001b[0;31mTypeError\u001b[0m                                 Traceback (most recent call last)",
            "\u001b[0;32m<ipython-input-110-336ffe653768>\u001b[0m in \u001b[0;36m<module>\u001b[0;34m()\u001b[0m\n\u001b[1;32m      4\u001b[0m     \u001b[0mx1\u001b[0m\u001b[0;34m,\u001b[0m \u001b[0mx2\u001b[0m\u001b[0;34m,\u001b[0m \u001b[0mx3\u001b[0m \u001b[0;34m=\u001b[0m \u001b[0mX\u001b[0m\u001b[0;34m[\u001b[0m\u001b[0;36m0\u001b[0m\u001b[0;34m]\u001b[0m\u001b[0;34m+\u001b[0m\u001b[0;36m1\u001b[0m\u001b[0;34m,\u001b[0m \u001b[0mX\u001b[0m\u001b[0;34m[\u001b[0m\u001b[0;36m1\u001b[0m\u001b[0;34m]\u001b[0m\u001b[0;34m+\u001b[0m\u001b[0;36m1\u001b[0m\u001b[0;34m,\u001b[0m \u001b[0mX\u001b[0m\u001b[0;34m[\u001b[0m\u001b[0;36m2\u001b[0m\u001b[0;34m]\u001b[0m\u001b[0;34m+\u001b[0m\u001b[0;36m1\u001b[0m  \u001b[0;31m# pega cada valor do vetor\u001b[0m\u001b[0;34m\u001b[0m\u001b[0;34m\u001b[0m\u001b[0m\n\u001b[1;32m      5\u001b[0m     \u001b[0mX\u001b[0m\u001b[0;34m[\u001b[0m\u001b[0;36m0\u001b[0m\u001b[0;34m]\u001b[0m\u001b[0;34m,\u001b[0m \u001b[0mX\u001b[0m\u001b[0;34m[\u001b[0m\u001b[0;36m1\u001b[0m\u001b[0;34m]\u001b[0m\u001b[0;34m,\u001b[0m \u001b[0mX\u001b[0m\u001b[0;34m[\u001b[0m\u001b[0;36m2\u001b[0m\u001b[0;34m]\u001b[0m \u001b[0;34m=\u001b[0m \u001b[0mx1\u001b[0m\u001b[0;34m,\u001b[0m \u001b[0mx2\u001b[0m\u001b[0;34m,\u001b[0m \u001b[0mx3\u001b[0m  \u001b[0;31m# X + Y\u001b[0m\u001b[0;34m\u001b[0m\u001b[0;34m\u001b[0m\u001b[0m\n\u001b[0;32m----> 6\u001b[0;31m     \u001b[0mc\u001b[0m\u001b[0;34m,\u001b[0m\u001b[0mtaxa\u001b[0m \u001b[0;34m=\u001b[0m \u001b[0mMCMC\u001b[0m\u001b[0;34m(\u001b[0m\u001b[0mn_cadeia_fria\u001b[0m\u001b[0;34m,\u001b[0m\u001b[0mnum\u001b[0m\u001b[0;34m,\u001b[0m\u001b[0msaltos\u001b[0m\u001b[0;34m,\u001b[0m\u001b[0mmean\u001b[0m\u001b[0;34m,\u001b[0m\u001b[0mcov\u001b[0m\u001b[0;34m,\u001b[0m\u001b[0mponto_inicial\u001b[0m\u001b[0;34m)\u001b[0m \u001b[0;31m# gera a amostra\u001b[0m\u001b[0;34m\u001b[0m\u001b[0;34m\u001b[0m\u001b[0m\n\u001b[0m\u001b[1;32m      7\u001b[0m     \u001b[0mmaximizando\u001b[0m \u001b[0;34m=\u001b[0m \u001b[0mminimize_scalar\u001b[0m\u001b[0;34m(\u001b[0m\u001b[0mfdps\u001b[0m\u001b[0;34m,\u001b[0m \u001b[0mbounds\u001b[0m \u001b[0;34m=\u001b[0m \u001b[0;34m(\u001b[0m\u001b[0;36m0\u001b[0m\u001b[0;34m,\u001b[0m\u001b[0;36m1\u001b[0m\u001b[0;34m)\u001b[0m\u001b[0;34m,\u001b[0m \u001b[0mmethod\u001b[0m \u001b[0;34m=\u001b[0m \u001b[0;34m'bounded'\u001b[0m\u001b[0;34m)\u001b[0m\u001b[0;34m\u001b[0m\u001b[0;34m\u001b[0m\u001b[0m\n\u001b[1;32m      8\u001b[0m     \u001b[0ms_estrela\u001b[0m \u001b[0;34m=\u001b[0m \u001b[0;34m-\u001b[0m\u001b[0mmaximizando\u001b[0m\u001b[0;34m.\u001b[0m\u001b[0mget\u001b[0m\u001b[0;34m(\u001b[0m\u001b[0;34m'fun'\u001b[0m\u001b[0;34m)\u001b[0m \u001b[0;31m# acha o valor máximo de s\u001b[0m\u001b[0;34m\u001b[0m\u001b[0;34m\u001b[0m\u001b[0m\n",
            "\u001b[0;32m<ipython-input-3-237442c82f5a>\u001b[0m in \u001b[0;36mMCMC\u001b[0;34m(aquecimento, tamanho_da_cadeia, saltos, mean, cov, ponto_inicial)\u001b[0m\n\u001b[1;32m     51\u001b[0m         \u001b[0mcaminho\u001b[0m \u001b[0;34m=\u001b[0m \u001b[0mnormal\u001b[0m\u001b[0;34m[\u001b[0m\u001b[0mk\u001b[0m\u001b[0;34m]\u001b[0m\u001b[0;34m\u001b[0m\u001b[0;34m\u001b[0m\u001b[0m\n\u001b[1;32m     52\u001b[0m         \u001b[0mproximo\u001b[0m \u001b[0;34m=\u001b[0m \u001b[0;34m(\u001b[0m\u001b[0matual\u001b[0m\u001b[0;34m[\u001b[0m\u001b[0;36m0\u001b[0m\u001b[0;34m]\u001b[0m \u001b[0;34m+\u001b[0m \u001b[0mcaminho\u001b[0m\u001b[0;34m[\u001b[0m\u001b[0;36m0\u001b[0m\u001b[0;34m]\u001b[0m \u001b[0;34m,\u001b[0m \u001b[0matual\u001b[0m\u001b[0;34m[\u001b[0m\u001b[0;36m1\u001b[0m\u001b[0;34m]\u001b[0m \u001b[0;34m+\u001b[0m \u001b[0mcaminho\u001b[0m\u001b[0;34m[\u001b[0m\u001b[0;36m1\u001b[0m\u001b[0;34m]\u001b[0m\u001b[0;34m)\u001b[0m\u001b[0;34m\u001b[0m\u001b[0;34m\u001b[0m\u001b[0m\n\u001b[0;32m---> 53\u001b[0;31m         \u001b[0;32mif\u001b[0m \u001b[0muniforme\u001b[0m\u001b[0;34m[\u001b[0m\u001b[0mk\u001b[0m\u001b[0;34m]\u001b[0m \u001b[0;34m<\u001b[0m \u001b[0malpha\u001b[0m\u001b[0;34m(\u001b[0m\u001b[0matual\u001b[0m \u001b[0;34m,\u001b[0m \u001b[0mproximo\u001b[0m\u001b[0;34m)\u001b[0m\u001b[0;34m:\u001b[0m\u001b[0;34m\u001b[0m\u001b[0;34m\u001b[0m\u001b[0m\n\u001b[0m\u001b[1;32m     54\u001b[0m             \u001b[0mcadeia_fria\u001b[0m \u001b[0;34m=\u001b[0m \u001b[0mproximo\u001b[0m\u001b[0;34m\u001b[0m\u001b[0;34m\u001b[0m\u001b[0m\n\u001b[1;32m     55\u001b[0m         \u001b[0mk\u001b[0m \u001b[0;34m+=\u001b[0m \u001b[0;36m1\u001b[0m\u001b[0;34m\u001b[0m\u001b[0;34m\u001b[0m\u001b[0m\n",
            "\u001b[0;32m<ipython-input-3-237442c82f5a>\u001b[0m in \u001b[0;36malpha\u001b[0;34m(i, j)\u001b[0m\n\u001b[1;32m     10\u001b[0m \u001b[0;32mdef\u001b[0m \u001b[0malpha\u001b[0m\u001b[0;34m(\u001b[0m\u001b[0mi\u001b[0m\u001b[0;34m,\u001b[0m\u001b[0mj\u001b[0m\u001b[0;34m)\u001b[0m\u001b[0;34m:\u001b[0m\u001b[0;34m\u001b[0m\u001b[0;34m\u001b[0m\u001b[0m\n\u001b[1;32m     11\u001b[0m     \u001b[0;31m# alpha de aceitacao utilizado\u001b[0m\u001b[0;34m\u001b[0m\u001b[0;34m\u001b[0m\u001b[0;34m\u001b[0m\u001b[0m\n\u001b[0;32m---> 12\u001b[0;31m     \u001b[0;32mif\u001b[0m \u001b[0mtheta\u001b[0m\u001b[0;34m(\u001b[0m\u001b[0mi\u001b[0m\u001b[0;34m[\u001b[0m\u001b[0;36m0\u001b[0m\u001b[0;34m]\u001b[0m\u001b[0;34m,\u001b[0m\u001b[0mi\u001b[0m\u001b[0;34m[\u001b[0m\u001b[0;36m1\u001b[0m\u001b[0;34m]\u001b[0m\u001b[0;34m)\u001b[0m \u001b[0;34m==\u001b[0m \u001b[0;36m0\u001b[0m\u001b[0;34m:\u001b[0m \u001b[0;32mreturn\u001b[0m \u001b[0;36m1\u001b[0m\u001b[0;34m\u001b[0m\u001b[0;34m\u001b[0m\u001b[0m\n\u001b[0m\u001b[1;32m     13\u001b[0m     \u001b[0;32mreturn\u001b[0m \u001b[0mtheta\u001b[0m\u001b[0;34m(\u001b[0m\u001b[0mj\u001b[0m\u001b[0;34m[\u001b[0m\u001b[0;36m0\u001b[0m\u001b[0;34m]\u001b[0m\u001b[0;34m,\u001b[0m\u001b[0mj\u001b[0m\u001b[0;34m[\u001b[0m\u001b[0;36m1\u001b[0m\u001b[0;34m]\u001b[0m\u001b[0;34m)\u001b[0m\u001b[0;34m/\u001b[0m\u001b[0mtheta\u001b[0m\u001b[0;34m(\u001b[0m\u001b[0mi\u001b[0m\u001b[0;34m[\u001b[0m\u001b[0;36m0\u001b[0m\u001b[0;34m]\u001b[0m\u001b[0;34m,\u001b[0m\u001b[0mi\u001b[0m\u001b[0;34m[\u001b[0m\u001b[0;36m1\u001b[0m\u001b[0;34m]\u001b[0m\u001b[0;34m)\u001b[0m\u001b[0;34m\u001b[0m\u001b[0;34m\u001b[0m\u001b[0m\n\u001b[1;32m     14\u001b[0m \u001b[0;34m\u001b[0m\u001b[0m\n",
            "\u001b[0;31mTypeError\u001b[0m: 'numpy.float64' object is not callable"
          ]
        }
      ]
    },
    {
      "cell_type": "code",
      "source": [
        "Y = [0,0,0] # priori\n",
        "Xvectors = listOfXvectors() # gera todos os X na tabela\n",
        "for X in Xvectors: # para cada vetor X:\n",
        "    x1, x2, x3 = X[0]+1, X[1]+1, X[2]+1  # pega cada valor do vetor\n",
        "    X[0], X[1], X[2] = x1, x2, x3  # X + Y\n",
        "    c,taxa = MCMC(n_cadeia_fria,num,saltos,mean,cov,ponto_inicial) # gera a amostra\n",
        "    maximizando = minimize_scalar(fdps, bounds = (0,1), method = 'bounded')\n",
        "    s_estrela = -maximizando.get('fun') # acha o valor máximo de s\n",
        "    vetor_theta = getThetaVector(maximizando.get('x'))\n",
        "    try:\n",
        "      ev = u(c, [s_estrela]) # acha W(s*) = ev(H|x)\n",
        "      Sev = sev(t,h,ev)\n",
        "      if Sev <= .05: H = \"Rejeita H0\"\n",
        "      else: H = \"Aceita H0\"\n",
        "      print(f\"x1={x1}, x3={x3}, Y= {Y}, H={H},  θ*= {vetor_theta}, ev(H|X)={ev[0]} e sev(H|X)={Sev[0]}\")\n",
        "    except:\n",
        "      print(f\"x1={x1}, x3={x3}, Y= {Y} - não calculados, erro de domínio\")"
      ],
      "metadata": {
        "colab": {
          "base_uri": "https://localhost:8080/"
        },
        "id": "0-heAEWyczLO",
        "outputId": "ba22b26d-6bd1-4e85-a62e-2deff3b217d0"
      },
      "execution_count": 107,
      "outputs": [
        {
          "output_type": "stream",
          "name": "stdout",
          "text": [
            "x1=2, x3=3, Y= [0, 0, 0], H=Rejeita H0,  θ*= [0.22562494241741132, 0.4987499939386672, 0.27562506364392153], ev(H|X)=0.003730000000000011 e sev(H|X)=0.0008256380137031671\n",
            "x1=2, x3=4, Y= [0, 0, 0], H=Rejeita H0,  θ*= [0.20250073581388872, 0.49500016351271214, 0.30249910067339913], ev(H|X)=0.013619999999999965 e sev(H|X)=0.003375628991411972\n",
            "x1=2, x3=5, Y= [0, 0, 0], H=Rejeita H0,  θ*= [0.18062558861584468, 0.48875020774564043, 0.3306242036385149], ev(H|X)=0.037959999999999994 e sev(H|X)=0.010533051128116644\n",
            "x1=2, x3=6, Y= [0, 0, 0], H=Rejeita H0,  θ*= [0.15999924890102757, 0.4799996244483102, 0.36000112665066225], ev(H|X)=0.12226999999999999 e sev(H|X)=0.04035141079173532\n",
            "x1=2, x3=7, Y= [0, 0, 0], H=Aceita H0,  θ*= [0.14062548888677232, 0.46875032592338184, 0.3906241851898459], ev(H|X)=0.18323999999999996 e sev(H|X)=0.06543732167396832\n",
            "x1=2, x3=8, Y= [0, 0, 0], H=Aceita H0,  θ*= [0.12249999094496618, 0.45499999223854193, 0.42250001681649185], ev(H|X)=0.31315000000000004 e sev(H|X)=0.1275439628829893\n",
            "x1=2, x3=9, Y= [0, 0, 0], H=Aceita H0,  θ*= [0.1056236008683304, 0.438748493228561, 0.45562790590310853], ev(H|X)=0.48234999999999995 e sev(H|X)=0.2272214258667693\n",
            "x1=2, x3=10, Y= [0, 0, 0], H=Aceita H0,  θ*= [0.08999969632695291, 0.41999959510174995, 0.49000070857129713], ev(H|X)=0.6659999999999999 e sev(H|X)=0.36725505220128873\n",
            "x1=2, x3=11, Y= [0, 0, 0], H=Aceita H0,  θ*= [0.0756249670005025, 0.39874994600080926, 0.5256250869986883], ev(H|X)=0.8313200000000001 e sev(H|X)=0.5432873253674798\n",
            "x1=2, x3=12, Y= [0, 0, 0], H=Aceita H0,  θ*= [0.06249935668723168, 0.37499871336784163, 0.5625019299449266], ev(H|X)=0.95389 e sev(H|X)=0.7586391273971216\n",
            "x1=2, x3=13, Y= [0, 0, 0], H=Aceita H0,  θ*= [0.050623731508192805, 0.348746899206933, 0.6006293692848742], ev(H|X)=0.99983 e sev(H|X)=0.9852879440697268\n",
            "x1=2, x3=14, Y= [0, 0, 0], H=Aceita H0,  θ*= [0.03999897254169583, 0.31999691759209736, 0.6400041098662068], ev(H|X)=0.96154 e sev(H|X)=0.7794251408684904\n",
            "x1=2, x3=15, Y= [0, 0, 0], H=Aceita H0,  θ*= [0.03062435506660315, 0.28874760451369486, 0.680628040419702], ev(H|X)=0.84262 e sev(H|X)=0.5584021313048104\n",
            "x1=2, x3=16, Y= [0, 0, 0], H=Aceita H0,  θ*= [0.022498608826227222, 0.2549935077123622, 0.7225078834614106], ev(H|X)=0.66777 e sev(H|X)=0.36882396008945395\n",
            "x1=2, x3=17, Y= [0, 0, 0], H=Aceita H0,  θ*= [0.015623422054468565, 0.21874053200808663, 0.7656360459374448], ev(H|X)=0.46402 e sev(H|X)=0.2152656730573862\n",
            "x1=2, x3=18, Y= [0, 0, 0], H=Aceita H0,  θ*= [0.009999441481546481, 0.179995531774384, 0.8100050267440695], ev(H|X)=0.27958000000000005 e sev(H|X)=0.11036872745967774\n",
            "x1=2, x3=19, Y= [0, 0, 0], H=Rejeita H0,  θ*= [0.005625173401657852, 0.13875196520097122, 0.855622861397371], ev(H|X)=0.13046000000000002 e sev(H|X)=0.04356409231589309\n",
            "x1=6, x3=1, Y= [0, 0, 0], H=Rejeita H0,  θ*= [0.3906252868585112, 0.4687498852565113, 0.14062482788497754], ev(H|X)=0.014549999999999952 e sev(H|X)=0.003629762795092084\n",
            "x1=6, x3=2, Y= [0, 0, 0], H=Rejeita H0,  θ*= [0.3600016683761914, 0.47999944387138127, 0.15999888775242732], ev(H|X)=0.08977999999999997 e sev(H|X)=0.028118518819053362\n",
            "x1=6, x3=3, Y= [0, 0, 0], H=Aceita H0,  θ*= [0.33062423243368094, 0.48875020023391713, 0.1806255673324019], ev(H|X)=0.31494 e sev(H|X)=0.12848235171100653\n",
            "x1=6, x3=4, Y= [0, 0, 0], H=Aceita H0,  θ*= [0.3024987650484692, 0.49500022453435033, 0.20250101041718052], ev(H|X)=0.60861 e sev(H|X)=0.3189724317583804\n",
            "x1=6, x3=5, Y= [0, 0, 0], H=Aceita H0,  θ*= [0.27562477148758296, 0.49875002176299704, 0.22562520674941994], ev(H|X)=0.88764 e sev(H|X)=0.6253800365364871\n",
            "x1=6, x3=6, Y= [0, 0, 0], H=Aceita H0,  θ*= [0.2499999295150973, 0.49999999999999006, 0.25000007048491263], ev(H|X)=1.0 e sev(H|X)=1.0\n",
            "x1=6, x3=7, Y= [0, 0, 0], H=Aceita H0,  θ*= [0.22562494241748812, 0.49874999393867525, 0.27562506364383665], ev(H|X)=0.89972 e sev(H|X)=0.6457165312128265\n",
            "x1=6, x3=8, Y= [0, 0, 0], H=Aceita H0,  θ*= [0.2025007358138665, 0.4950001635127072, 0.3024991006734263], ev(H|X)=0.65788 e sev(H|X)=0.36012265509966335\n",
            "x1=6, x3=9, Y= [0, 0, 0], H=Aceita H0,  θ*= [0.1806255886158739, 0.4887502077456508, 0.33062420363847533], ev(H|X)=0.40435 e sev(H|X)=0.17839444485253553\n",
            "x1=6, x3=10, Y= [0, 0, 0], H=Aceita H0,  θ*= [0.15999924890103623, 0.47999962444831445, 0.3600011266506493], ev(H|X)=0.20689999999999997 e sev(H|X)=0.07587861590716094\n",
            "x1=6, x3=11, Y= [0, 0, 0], H=Rejeita H0,  θ*= [0.14062548888675339, 0.46875032592336907, 0.3906241851898775], ev(H|X)=0.08748 e sev(H|X)=0.02728493417524558\n",
            "x1=10, x3=1, Y= [0, 0, 0], H=Aceita H0,  θ*= [0.5256261990818444, 0.3987492557413603, 0.07562454517679534], ev(H|X)=0.20218999999999998 e sev(H|X)=0.07376920193191783\n",
            "x1=10, x3=2, Y= [0, 0, 0], H=Aceita H0,  θ*= [0.4900015693815932, 0.41999910320872297, 0.0899993274096838], ev(H|X)=0.6685099999999999 e sev(H|X)=0.3694814144444122\n",
            "x1=10, x3=3, Y= [0, 0, 0], H=Aceita H0,  θ*= [0.4556250010634801, 0.4387499994485658, 0.10562499948795405], ev(H|X)=0.99302 e sev(H|X)=0.9057828912361607\n",
            "x1=10, x3=4, Y= [0, 0, 0], H=Aceita H0,  θ*= [0.42250015423168186, 0.4549999288161252, 0.12249991695219292], ev(H|X)=0.85266 e sev(H|X)=0.5723364375124567\n",
            "x1=10, x3=5, Y= [0, 0, 0], H=Aceita H0,  θ*= [0.39062528685844145, 0.4687498852565392, 0.14062482788501934], ev(H|X)=0.49121000000000004 e sev(H|X)=0.23311276792302027\n",
            "x1=10, x3=6, Y= [0, 0, 0], H=Aceita H0,  θ*= [0.3600016683762068, 0.47999944387137605, 0.1599988877524171], ev(H|X)=0.20577 e sev(H|X)=0.07537114047819982\n",
            "x1=10, x3=7, Y= [0, 0, 0], H=Rejeita H0,  θ*= [0.3306242324337415, 0.4887502002339014, 0.18062556733235707], ev(H|X)=0.06428999999999996 e sev(H|X)=0.01913974360868176\n",
            "x1=10, x3=8, Y= [0, 0, 0], H=Rejeita H0,  θ*= [0.3024987650485345, 0.49500022453433845, 0.20250101041712706], ev(H|X)=0.015070000000000028 e sev(H|X)=0.003772704575115804\n"
          ]
        }
      ]
    }
  ]
}